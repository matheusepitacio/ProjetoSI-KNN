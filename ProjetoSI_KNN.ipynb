{
  "nbformat": 4,
  "nbformat_minor": 0,
  "metadata": {
    "colab": {
      "name": "ProjetoSI_KNN.ipynb",
      "provenance": []
    },
    "kernelspec": {
      "name": "python3",
      "display_name": "Python 3"
    },
    "language_info": {
      "name": "python"
    }
  },
  "cells": [
    {
      "cell_type": "markdown",
      "metadata": {
        "id": "7uq1JBPJnnZT"
      },
      "source": [
        "\n",
        "Primeiro vamos importar algumas bibliotecas que vamos utilizar\n",
        "<br>\n",
        "Pandas é uma biblioteca útil para manipular e análisar dados em Dataframes\n",
        "<br>\n",
        "Numpy é uma biblioteca que serve para fazer operações com os dados\n",
        "<br>\n",
        "E matplotlib é uma biblioteca útil para visualizar dados \n",
        "\n"
      ]
    },
    {
      "cell_type": "code",
      "metadata": {
        "id": "elHQN-TwWA7w"
      },
      "source": [
        "import pandas as pd\n",
        "import numpy as np\n",
        "import matplotlib.pyplot as plt\n"
      ],
      "execution_count": null,
      "outputs": []
    },
    {
      "cell_type": "markdown",
      "metadata": {
        "id": "cepUGIT8oI9S"
      },
      "source": [
        "Nesse bloco carregamos o arquivo com os dados e o transformamos em um array onde cada posição é uma linha "
      ]
    },
    {
      "cell_type": "code",
      "metadata": {
        "id": "dF6bckN6Wygx"
      },
      "source": [
        "data = []\n",
        "with open('wifi_localization.txt') as wifi_file:\n",
        "  for line in wifi_file:\n",
        "    line = line.split(\"\\t\")\n",
        "    line[-1] = line[-1][0:-1]\n",
        "    line = [int(i) for i in line]\n",
        "    data.append(line)"
      ],
      "execution_count": null,
      "outputs": []
    },
    {
      "cell_type": "markdown",
      "metadata": {
        "id": "Uhs-pg_6oaUI"
      },
      "source": [
        "Nesse bloco transformamos os dados em um dataframe"
      ]
    },
    {
      "cell_type": "code",
      "metadata": {
        "id": "Nr0bIZ9BWzXr"
      },
      "source": [
        "columns = ['Signal {}'.format(i) for i in range(1,8)]\n",
        "columns.append('Room')\n",
        "df = pd.DataFrame(data)\n",
        "df.columns = columns"
      ],
      "execution_count": null,
      "outputs": []
    },
    {
      "cell_type": "markdown",
      "metadata": {
        "id": "QaUhQPYeoiWG"
      },
      "source": [
        "Visualizando os dados no dataframe"
      ]
    },
    {
      "cell_type": "code",
      "metadata": {
        "colab": {
          "base_uri": "https://localhost:8080/",
          "height": 204
        },
        "id": "intiZyMKZS53",
        "outputId": "cd5c8afb-b155-46d2-f32d-bd7eaf036113"
      },
      "source": [
        "df.head()"
      ],
      "execution_count": null,
      "outputs": [
        {
          "output_type": "execute_result",
          "data": {
            "text/html": [
              "<div>\n",
              "<style scoped>\n",
              "    .dataframe tbody tr th:only-of-type {\n",
              "        vertical-align: middle;\n",
              "    }\n",
              "\n",
              "    .dataframe tbody tr th {\n",
              "        vertical-align: top;\n",
              "    }\n",
              "\n",
              "    .dataframe thead th {\n",
              "        text-align: right;\n",
              "    }\n",
              "</style>\n",
              "<table border=\"1\" class=\"dataframe\">\n",
              "  <thead>\n",
              "    <tr style=\"text-align: right;\">\n",
              "      <th></th>\n",
              "      <th>Signal 1</th>\n",
              "      <th>Signal 2</th>\n",
              "      <th>Signal 3</th>\n",
              "      <th>Signal 4</th>\n",
              "      <th>Signal 5</th>\n",
              "      <th>Signal 6</th>\n",
              "      <th>Signal 7</th>\n",
              "      <th>Room</th>\n",
              "    </tr>\n",
              "  </thead>\n",
              "  <tbody>\n",
              "    <tr>\n",
              "      <th>0</th>\n",
              "      <td>-64</td>\n",
              "      <td>-56</td>\n",
              "      <td>-61</td>\n",
              "      <td>-66</td>\n",
              "      <td>-71</td>\n",
              "      <td>-82</td>\n",
              "      <td>-81</td>\n",
              "      <td>1</td>\n",
              "    </tr>\n",
              "    <tr>\n",
              "      <th>1</th>\n",
              "      <td>-68</td>\n",
              "      <td>-57</td>\n",
              "      <td>-61</td>\n",
              "      <td>-65</td>\n",
              "      <td>-71</td>\n",
              "      <td>-85</td>\n",
              "      <td>-85</td>\n",
              "      <td>1</td>\n",
              "    </tr>\n",
              "    <tr>\n",
              "      <th>2</th>\n",
              "      <td>-63</td>\n",
              "      <td>-60</td>\n",
              "      <td>-60</td>\n",
              "      <td>-67</td>\n",
              "      <td>-76</td>\n",
              "      <td>-85</td>\n",
              "      <td>-84</td>\n",
              "      <td>1</td>\n",
              "    </tr>\n",
              "    <tr>\n",
              "      <th>3</th>\n",
              "      <td>-61</td>\n",
              "      <td>-60</td>\n",
              "      <td>-68</td>\n",
              "      <td>-62</td>\n",
              "      <td>-77</td>\n",
              "      <td>-90</td>\n",
              "      <td>-80</td>\n",
              "      <td>1</td>\n",
              "    </tr>\n",
              "    <tr>\n",
              "      <th>4</th>\n",
              "      <td>-63</td>\n",
              "      <td>-65</td>\n",
              "      <td>-60</td>\n",
              "      <td>-63</td>\n",
              "      <td>-77</td>\n",
              "      <td>-81</td>\n",
              "      <td>-87</td>\n",
              "      <td>1</td>\n",
              "    </tr>\n",
              "  </tbody>\n",
              "</table>\n",
              "</div>"
            ],
            "text/plain": [
              "   Signal 1  Signal 2  Signal 3  Signal 4  Signal 5  Signal 6  Signal 7  Room\n",
              "0       -64       -56       -61       -66       -71       -82       -81     1\n",
              "1       -68       -57       -61       -65       -71       -85       -85     1\n",
              "2       -63       -60       -60       -67       -76       -85       -84     1\n",
              "3       -61       -60       -68       -62       -77       -90       -80     1\n",
              "4       -63       -65       -60       -63       -77       -81       -87     1"
            ]
          },
          "metadata": {
            "tags": []
          },
          "execution_count": 4
        }
      ]
    },
    {
      "cell_type": "markdown",
      "metadata": {
        "id": "dern0oDyoog3"
      },
      "source": [
        "Agora vamos pegar o conjunto de entrada, para isso retiramos a coluna Room do dataframe"
      ]
    },
    {
      "cell_type": "code",
      "metadata": {
        "id": "7goKan-ZZhoq"
      },
      "source": [
        "X = df.drop(columns=['Room'])"
      ],
      "execution_count": null,
      "outputs": []
    },
    {
      "cell_type": "markdown",
      "metadata": {
        "id": "3HAhy7mXozvl"
      },
      "source": [
        "Normalizamos os dados subtraindo pela média e dividindo pelo desvio padrão"
      ]
    },
    {
      "cell_type": "code",
      "metadata": {
        "id": "eQgCGuqnawpQ"
      },
      "source": [
        "X = (X-X.mean()) / X.std() #normalizando os dados"
      ],
      "execution_count": null,
      "outputs": []
    },
    {
      "cell_type": "markdown",
      "metadata": {
        "id": "66-kSz52o75H"
      },
      "source": [
        "\n",
        "Agora pegamos o conjunto de saída que se refere a coluna Room do dataframe\n",
        "\n"
      ]
    },
    {
      "cell_type": "code",
      "metadata": {
        "id": "rXh5sIlUZ4nr"
      },
      "source": [
        "y = df['Room'].values"
      ],
      "execution_count": null,
      "outputs": []
    },
    {
      "cell_type": "markdown",
      "metadata": {
        "id": "oyGQvnBmpa5f"
      },
      "source": [
        "Utilizamos o sklearn para dividir o conjunto de dados em conjunto de treino e conjunto de validação\n",
        "<br>\n",
        "80% é conjunto de treino e 20% de teste, o parâmetro test_size=0.2 define isso"
      ]
    },
    {
      "cell_type": "code",
      "metadata": {
        "id": "OUv-x0spaHfy"
      },
      "source": [
        "from sklearn.model_selection import train_test_split\n",
        "X_train, X_test, y_train, y_test = train_test_split(X, y, test_size=0.2, random_state=1, stratify=y)"
      ],
      "execution_count": null,
      "outputs": []
    },
    {
      "cell_type": "markdown",
      "metadata": {
        "id": "u_3gXj3tpj8g"
      },
      "source": [
        "Agora importamos do sklearn o classificador KNN"
      ]
    },
    {
      "cell_type": "code",
      "metadata": {
        "id": "nP3eKJdDaQHL"
      },
      "source": [
        "from sklearn.neighbors import KNeighborsClassifier"
      ],
      "execution_count": null,
      "outputs": []
    },
    {
      "cell_type": "markdown",
      "metadata": {
        "id": "j_h0oq3lpq0-"
      },
      "source": [
        "Instanciamos o classificador com o parâmetro número de vizinhos = 3 para testar o desempenho do KNN"
      ]
    },
    {
      "cell_type": "code",
      "metadata": {
        "id": "qJ7EE_KEaYAD"
      },
      "source": [
        "knn = KNeighborsClassifier(n_neighbors = 3) #por default o sklearn usa a dist euclidiana"
      ],
      "execution_count": null,
      "outputs": []
    },
    {
      "cell_type": "markdown",
      "metadata": {
        "id": "3FhrgBsXp1qo"
      },
      "source": [
        "Então treinamos o modelo com o conjunto de entrada de teste e o conjunto de saída de teste"
      ]
    },
    {
      "cell_type": "code",
      "metadata": {
        "colab": {
          "base_uri": "https://localhost:8080/"
        },
        "id": "2-OX79YH4Yui",
        "outputId": "efc8f0ff-ffd5-49da-b664-b3f32209f087"
      },
      "source": [
        "knn.fit(X_train, y_train)"
      ],
      "execution_count": null,
      "outputs": [
        {
          "output_type": "execute_result",
          "data": {
            "text/plain": [
              "KNeighborsClassifier(algorithm='auto', leaf_size=30, metric='minkowski',\n",
              "                     metric_params=None, n_jobs=None, n_neighbors=3, p=2,\n",
              "                     weights='uniform')"
            ]
          },
          "metadata": {
            "tags": []
          },
          "execution_count": 11
        }
      ]
    },
    {
      "cell_type": "markdown",
      "metadata": {
        "id": "kyPEH9LdqQ2o"
      },
      "source": [
        "Fazemos uma previsão dos 5 primeiros elementos do conjunto de teste e obtemos as classes 1,3,3,3,3"
      ]
    },
    {
      "cell_type": "code",
      "metadata": {
        "colab": {
          "base_uri": "https://localhost:8080/"
        },
        "id": "KfVZZUAk4o0F",
        "outputId": "af01db1a-bd41-4b92-aaa2-63cb02cdea8f"
      },
      "source": [
        "knn.predict(X_test)[0:5]"
      ],
      "execution_count": null,
      "outputs": [
        {
          "output_type": "execute_result",
          "data": {
            "text/plain": [
              "array([1, 3, 3, 3, 3])"
            ]
          },
          "metadata": {
            "tags": []
          },
          "execution_count": 12
        }
      ]
    },
    {
      "cell_type": "markdown",
      "metadata": {
        "id": "0wPeR80WqgdX"
      },
      "source": [
        "Porém ao vermos qual eram os resultados reais temos 1,3,3,2,3"
      ]
    },
    {
      "cell_type": "code",
      "metadata": {
        "colab": {
          "base_uri": "https://localhost:8080/"
        },
        "id": "NTHSK5s84-on",
        "outputId": "a8d2816e-a6f0-4fa5-f6ff-3a888e3ccfad"
      },
      "source": [
        "y_test[0:5]"
      ],
      "execution_count": null,
      "outputs": [
        {
          "output_type": "execute_result",
          "data": {
            "text/plain": [
              "array([1, 3, 3, 2, 3])"
            ]
          },
          "metadata": {
            "tags": []
          },
          "execution_count": 13
        }
      ]
    },
    {
      "cell_type": "markdown",
      "metadata": {
        "id": "9gQpD-SlqmyO"
      },
      "source": [
        "\n",
        "E o modelo tem 98% de score, o que é bastante alto, mas podemos melhorar isso\n",
        "\n"
      ]
    },
    {
      "cell_type": "code",
      "metadata": {
        "colab": {
          "base_uri": "https://localhost:8080/"
        },
        "id": "xfnxmDMQ5Djh",
        "outputId": "2facc1fc-4666-472b-817b-5342ae1bf319"
      },
      "source": [
        "knn.score(X_test, y_test)"
      ],
      "execution_count": null,
      "outputs": [
        {
          "output_type": "execute_result",
          "data": {
            "text/plain": [
              "0.98"
            ]
          },
          "metadata": {
            "tags": []
          },
          "execution_count": 14
        }
      ]
    },
    {
      "cell_type": "markdown",
      "metadata": {
        "id": "m0I1kGOSqvc_"
      },
      "source": [
        "Então treinamos o modelo com várias quantidades de vizinhos e procuramos qual quantidade traz mais desempenho"
      ]
    },
    {
      "cell_type": "code",
      "metadata": {
        "id": "wqOHJC_t6UYD"
      },
      "source": [
        "scores = []\n",
        "for i in range(1,26):\n",
        "  knn = KNeighborsClassifier(n_neighbors = i)\n",
        "  knn.fit(X_train, y_train)\n",
        "  scores.append(knn.score(X_test, y_test))\n",
        "  y_test_pred = knn.predict(X_test)"
      ],
      "execution_count": null,
      "outputs": []
    },
    {
      "cell_type": "markdown",
      "metadata": {
        "id": "m3GfB71nrAv_"
      },
      "source": [
        "Plotamos os resultados em um gráfico"
      ]
    },
    {
      "cell_type": "code",
      "metadata": {
        "colab": {
          "base_uri": "https://localhost:8080/",
          "height": 295
        },
        "id": "3p9UqomSAD3o",
        "outputId": "6ac5b740-333a-4f58-dfbe-9442461d093a"
      },
      "source": [
        "plt.title('Desempenho da escolha do k')\n",
        "plt.plot(range(1,26), scores )\n",
        "plt.xlabel('Número do k')\n",
        "plt.ylabel('Pontuação do classificador');\n",
        "\n",
        "plt.savefig('chart.png')"
      ],
      "execution_count": null,
      "outputs": [
        {
          "output_type": "display_data",
          "data": {
            "image/png": "[encoded data removed]",
            "text/plain": [
              "<Figure size 432x288 with 1 Axes>"
            ]
          },
          "metadata": {
            "tags": [],
            "needs_background": "light"
          }
        }
      ]
    },
    {
      "cell_type": "markdown",
      "metadata": {
        "id": "gepIjPOxBMto"
      },
      "source": [
        "E o melhor valor de k é 6"
      ]
    }
  ]
}